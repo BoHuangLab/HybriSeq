{
 "cells": [
  {
   "cell_type": "code",
<<<<<<< HEAD
   "execution_count": 4,
   "metadata": {
    "ExecuteTime": {
     "end_time": "2023-07-10T15:56:11.919679Z",
     "start_time": "2023-07-10T15:56:11.916678Z"
=======
   "execution_count": 5,
   "metadata": {
    "ExecuteTime": {
     "end_time": "2023-07-04T16:39:06.830076Z",
     "start_time": "2023-07-04T16:39:05.880113Z"
>>>>>>> 32d3355b19186dbc1b4e0cda75fe0dc05e553c35
    }
   },
   "outputs": [],
   "source": [
    "import pandas as pd \n",
    "from collections import Counter\n",
<<<<<<< HEAD
    "import matplotlib.pyplot as plt\n",
    "import matplotlib \n",
    "from matplotlib.font_manager import FontProperties\n",
    "\n",
    "\n",
    "#plt.rcParams['svg.fonttype'] = 'none'"
=======
    "import matplotlib.pyplot as plt"
>>>>>>> 32d3355b19186dbc1b4e0cda75fe0dc05e553c35
   ]
  },
  {
   "cell_type": "code",
<<<<<<< HEAD
   "execution_count": 7,
   "metadata": {
    "ExecuteTime": {
     "end_time": "2023-07-10T16:01:53.562845Z",
     "start_time": "2023-07-10T16:01:53.319984Z"
=======
   "execution_count": 8,
   "metadata": {
    "ExecuteTime": {
     "end_time": "2023-07-04T16:42:19.091252Z",
     "start_time": "2023-07-04T16:42:17.684318Z"
>>>>>>> 32d3355b19186dbc1b4e0cda75fe0dc05e553c35
    },
    "code_folding": []
   },
   "outputs": [
    {
     "data": {
<<<<<<< HEAD
      "image/png": "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\n",
      "text/plain": [
       "<Figure size 129.6x129.6 with 1 Axes>"
=======
      "image/png": "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\n",
      "text/plain": [
       "<Figure size 360x360 with 1 Axes>"
>>>>>>> 32d3355b19186dbc1b4e0cda75fe0dc05e553c35
      ]
     },
     "metadata": {},
     "output_type": "display_data"
    },
    {
     "name": "stdout",
     "output_type": "stream",
     "text": [
      "Counter({'green': 398, 'lime': 275, 'gray': 18})\n"
     ]
    }
   ],
   "source": [
    "# load data \n",
<<<<<<< HEAD
    "mix_DPM = pd.read_csv('D:/Daniel/HybriSeq/HybriSeq_github/HybriSeq/data/mix_DPM.csv')\n",
=======
    "mix_DPM = pd.read_csv('/HybriSeq/data/mix_DPM.csv')\n",
>>>>>>> 32d3355b19186dbc1b4e0cda75fe0dc05e553c35
    "\n",
    "# get counts \n",
    "mNG_counts = mix_DPM['mNG']\n",
    "GFP_counts = mix_DPM['GFP']\n",
    "\n",
    "Threshold = 50\n",
    "\n",
    "colors = []\n",
    "for mNG,GFP in zip(mNG_counts,GFP_counts):\n",
    "    if mNG >= Threshold and GFP<Threshold:\n",
    "        colors.append('lime')\n",
    "    elif GFP >= Threshold and mNG<Threshold:\n",
    "        colors.append('green')\n",
    "    else:\n",
    "        colors.append('gray')\n",
<<<<<<< HEAD
    "        \n",
    "font = FontProperties()\n",
    "font.set_family('serif')\n",
    "font.set_name('Arial')\n",
    "\n",
    "\n",
    "# plot \n",
    "fig, ax = plt.subplots()\n",
    "fig.set_size_inches(1.8, 1.8)\n",
    "plt.scatter(mNG_counts,GFP_counts,s = 9,c = colors, alpha = 1)\n",
    "\n",
    "\n",
    "plt.rc('font', size=7)          # controls default text sizes\n",
    "plt.rc('axes', titlesize=7)     # fontsize of the axes title\n",
    "plt.rc('axes', labelsize=7)    # fontsize of the x and y labels\n",
    "plt.rc('xtick', labelsize=7 )    # fontsize of the tick labels\n",
    "plt.rc('ytick', labelsize=7)    # fontsize of the tick labels\n",
    "plt.rc('legend', fontsize=7)    # legend fontsize\n",
    "plt.rc('figure', titlesize=7)  # fontsize of the figure title\n",
    "\n",
    "\n",
    "fig.set_facecolor('white')\n",
    "#plt.xlabel('mNG UMIs',fontsize=10, fontproperties=font)\n",
    "#plt.ylabel('GFP UMIs',fontsize=10, fontproperties=font)\n",
    "ax.set_xlabel('mNG UMIs',fontsize=10, fontproperties=font)\n",
    "ax.set_ylabel('GFP UMIs',fontsize=10, fontproperties=font)\n",
    "\n",
    "plt.savefig('D:/Daniel/HybriSeq/HybriSeq_github/HybriSeq/figures_tables/mix.pdf', bbox_inches='tight')\n",
    "plt.show()\n",
    "print(Counter(colors))\n"
=======
    "\n",
    "# plot \n",
    "fig, ax = plt.subplots(figsize=(5,5))\n",
    "ax = plt.scatter(mNG_counts,GFP_counts,s = 20,c = colors, alpha = 1)\n",
    "fig.set_facecolor('white')\n",
    "plt.xlabel('mNG UMIs',fontsize=16)\n",
    "plt.ylabel('GFP UMIs',fontsize=16)\n",
    "\n",
    "plt.show()\n",
    "print(Counter(colors))"
>>>>>>> 32d3355b19186dbc1b4e0cda75fe0dc05e553c35
   ]
  },
  {
   "cell_type": "code",
   "execution_count": null,
<<<<<<< HEAD
   "metadata": {
    "ExecuteTime": {
     "end_time": "2023-07-07T17:27:47.721884Z",
     "start_time": "2023-07-07T17:27:47.602386Z"
    },
    "scrolled": false
   },
=======
   "metadata": {},
   "outputs": [],
   "source": [
    "\n",
    "\n"
   ]
  },
  {
   "cell_type": "code",
   "execution_count": null,
   "metadata": {},
>>>>>>> 32d3355b19186dbc1b4e0cda75fe0dc05e553c35
   "outputs": [],
   "source": []
  },
  {
   "cell_type": "code",
   "execution_count": null,
   "metadata": {},
   "outputs": [],
   "source": []
  },
  {
   "cell_type": "code",
   "execution_count": null,
   "metadata": {},
   "outputs": [],
   "source": []
  },
  {
   "cell_type": "code",
   "execution_count": null,
   "metadata": {},
   "outputs": [],
   "source": []
  },
  {
   "cell_type": "code",
   "execution_count": null,
   "metadata": {},
   "outputs": [],
   "source": []
  },
  {
   "cell_type": "code",
   "execution_count": null,
   "metadata": {},
   "outputs": [],
   "source": []
  },
  {
   "cell_type": "code",
   "execution_count": null,
   "metadata": {},
   "outputs": [],
   "source": []
  },
  {
   "cell_type": "code",
   "execution_count": null,
   "metadata": {},
   "outputs": [],
   "source": []
  },
  {
   "cell_type": "code",
   "execution_count": null,
   "metadata": {},
   "outputs": [],
   "source": []
  },
  {
   "cell_type": "code",
   "execution_count": null,
   "metadata": {},
   "outputs": [],
   "source": []
  },
  {
   "cell_type": "code",
   "execution_count": null,
   "metadata": {},
   "outputs": [],
   "source": []
  }
 ],
 "metadata": {
  "kernelspec": {
   "display_name": "Python 3 (ipykernel)",
   "language": "python",
   "name": "python3"
  },
  "language_info": {
   "codemirror_mode": {
    "name": "ipython",
    "version": 3
   },
   "file_extension": ".py",
   "mimetype": "text/x-python",
   "name": "python",
   "nbconvert_exporter": "python",
   "pygments_lexer": "ipython3",
   "version": "3.7.4"
  },
  "toc": {
   "base_numbering": 1,
   "nav_menu": {},
   "number_sections": true,
   "sideBar": true,
   "skip_h1_title": false,
   "title_cell": "Table of Contents",
   "title_sidebar": "Contents",
   "toc_cell": false,
   "toc_position": {},
   "toc_section_display": true,
   "toc_window_display": false
  }
 },
 "nbformat": 4,
 "nbformat_minor": 2
}
